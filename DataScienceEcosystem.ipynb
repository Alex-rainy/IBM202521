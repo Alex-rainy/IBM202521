{
  "metadata": {
    "kernelspec": {
      "name": "python",
      "display_name": "Python (Pyodide)",
      "language": "python"
    },
    "language_info": {
      "codemirror_mode": {
        "name": "python",
        "version": 3
      },
      "file_extension": ".py",
      "mimetype": "text/x-python",
      "name": "python",
      "nbconvert_exporter": "python",
      "pygments_lexer": "ipython3",
      "version": "3.8"
    }
  },
  "nbformat_minor": 5,
  "nbformat": 4,
  "cells": [
    {
      "id": "a542b7d1-551f-42d5-9ca8-c870cb38cfae",
      "cell_type": "markdown",
      "source": "# Data Science Tools and Ecosystem",
      "metadata": {}
    },
    {
      "id": "79f7c5a2-7709-4528-97f3-68fea5030858",
      "cell_type": "markdown",
      "source": "In this notebook, Data Science Tools and Ecosystem are summarized.",
      "metadata": {}
    },
    {
      "id": "400dcdf1-b797-4efc-b9f8-2101491136b5",
      "cell_type": "markdown",
      "source": "**Objectives:**\n* List popular languages for Data Science\n* List popular libraries for Data Science\n* execute two arithmetic expression",
      "metadata": {}
    },
    {
      "id": "b9b630db-6dcc-4c20-878c-3e577a4b67fd",
      "cell_type": "markdown",
      "source": "Some of the popular languages that Data Scientists use are:\n1. Python\n2. R\n3. Java\n4. SQL",
      "metadata": {},
      "attachments": {}
    },
    {
      "id": "20f3313b-7f47-4c00-be13-1d2f066cf48b",
      "cell_type": "markdown",
      "source": "Some of the commonly used libraries used by Data Scientists include:\n1. Pandas\n2. Numpy\n3. Seaborn",
      "metadata": {}
    },
    {
      "id": "e0680b12-073a-4b18-a8d9-0d7d10b6a947",
      "cell_type": "markdown",
      "source": "|Data Science Tools|\n|---|\n|Github|\n|Anaconda|\n|JupyterLab|",
      "metadata": {}
    },
    {
      "id": "92dc9222-1556-4b53-8f68-bd93f29c68e7",
      "cell_type": "markdown",
      "source": "### Below are a few examples of evaluating arithmetic expressions in Python",
      "metadata": {
        "jupyter": {
          "source_hidden": true
        }
      }
    },
    {
      "id": "f193c1cd-8549-45e0-9f6e-67cb2754ee1c",
      "cell_type": "code",
      "source": "#This a simple arithmetic expression to mutiply then add integers\n(3*4)+5",
      "metadata": {
        "trusted": true
      },
      "outputs": [
        {
          "execution_count": 5,
          "output_type": "execute_result",
          "data": {
            "text/plain": "17"
          },
          "metadata": {}
        }
      ],
      "execution_count": 5
    },
    {
      "id": "14a93a34-8e68-4bde-85fd-0fa9d69c0724",
      "cell_type": "code",
      "source": "# This will convert 200 minutes to hours by diving by 60\n200/60",
      "metadata": {
        "trusted": true
      },
      "outputs": [
        {
          "execution_count": 4,
          "output_type": "execute_result",
          "data": {
            "text/plain": "3.3333333333333335"
          },
          "metadata": {}
        }
      ],
      "execution_count": 4
    },
    {
      "id": "6a8df3e7-e538-4691-8d85-e31d4c417543",
      "cell_type": "markdown",
      "source": "## Author\nJiayv Li",
      "metadata": {}
    },
    {
      "id": "6e0e10a1-883d-4d07-8cbe-b26e625c0689",
      "cell_type": "code",
      "source": "",
      "metadata": {
        "trusted": true
      },
      "outputs": [],
      "execution_count": null
    }
  ]
}